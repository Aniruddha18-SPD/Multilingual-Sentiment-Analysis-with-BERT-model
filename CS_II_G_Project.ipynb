{
  "nbformat": 4,
  "nbformat_minor": 0,
  "metadata": {
    "colab": {
      "name": "CS II G.Project",
      "provenance": [],
      "collapsed_sections": [],
      "machine_shape": "hm",
      "include_colab_link": true
    },
    "kernelspec": {
      "display_name": "Python 3",
      "name": "python3"
    },
    "language_info": {
      "name": "python"
    },
    "accelerator": "GPU"
  },
  "cells": [
    {
      "cell_type": "markdown",
      "metadata": {
        "id": "view-in-github",
        "colab_type": "text"
      },
      "source": [
        "<a href=\"https://colab.research.google.com/github/Aniruddha18-SPD/Multilingual-Sentiment-Analysis-with-Fine-tuned-Bidirectional-Encoder-Representations-from-Transfor/blob/main/CS_II_G_Project.ipynb\" target=\"_parent\"><img src=\"https://colab.research.google.com/assets/colab-badge.svg\" alt=\"Open In Colab\"/></a>"
      ]
    },
    {
      "cell_type": "markdown",
      "metadata": {
        "id": "2vtCZx5R715p"
      },
      "source": [
        "# 1. Importing Drive to Import files from Drive\n",
        "\n"
      ]
    },
    {
      "cell_type": "code",
      "metadata": {
        "id": "nqY7gh_qihGK",
        "colab": {
          "base_uri": "https://localhost:8080/"
        },
        "outputId": "410f9a23-a1a9-42e8-ba9b-c2007e11fff1"
      },
      "source": [
        "from google.colab import drive\n",
        "drive.mount('/content/drive')"
      ],
      "execution_count": null,
      "outputs": [
        {
          "output_type": "stream",
          "name": "stdout",
          "text": [
            "Drive already mounted at /content/drive; to attempt to forcibly remount, call drive.mount(\"/content/drive\", force_remount=True).\n"
          ]
        }
      ]
    },
    {
      "cell_type": "code",
      "metadata": {
        "id": "q3sYkG-V-8OC",
        "colab": {
          "base_uri": "https://localhost:8080/"
        },
        "outputId": "b3dd3923-ceef-477b-b50f-3c25aecd6a48"
      },
      "source": [
        "!ls \"/content/drive/My Drive/XTechHBCU/combined_tsv.tsv\"        #copy path of the .tsv file"
      ],
      "execution_count": null,
      "outputs": [
        {
          "output_type": "stream",
          "name": "stdout",
          "text": [
            "'/content/drive/My Drive/XTechHBCU/combined_tsv.tsv'\n"
          ]
        }
      ]
    },
    {
      "cell_type": "markdown",
      "source": [
        "#2. Installing Transformers Library "
      ],
      "metadata": {
        "id": "iN1Glm8t1Qu7"
      }
    },
    {
      "cell_type": "code",
      "metadata": {
        "id": "39XOSvyfso3d",
        "colab": {
          "base_uri": "https://localhost:8080/"
        },
        "outputId": "7077f1cb-0c4e-4017-d6b0-29f44f925df9"
      },
      "source": [
        "!pip install transformers"
      ],
      "execution_count": null,
      "outputs": [
        {
          "output_type": "stream",
          "name": "stdout",
          "text": [
            "Requirement already satisfied: transformers in /usr/local/lib/python3.7/dist-packages (4.13.0)\n",
            "Requirement already satisfied: tqdm>=4.27 in /usr/local/lib/python3.7/dist-packages (from transformers) (4.62.3)\n",
            "Requirement already satisfied: pyyaml>=5.1 in /usr/local/lib/python3.7/dist-packages (from transformers) (6.0)\n",
            "Requirement already satisfied: sacremoses in /usr/local/lib/python3.7/dist-packages (from transformers) (0.0.46)\n",
            "Requirement already satisfied: huggingface-hub<1.0,>=0.1.0 in /usr/local/lib/python3.7/dist-packages (from transformers) (0.2.1)\n",
            "Requirement already satisfied: tokenizers<0.11,>=0.10.1 in /usr/local/lib/python3.7/dist-packages (from transformers) (0.10.3)\n",
            "Requirement already satisfied: regex!=2019.12.17 in /usr/local/lib/python3.7/dist-packages (from transformers) (2019.12.20)\n",
            "Requirement already satisfied: importlib-metadata in /usr/local/lib/python3.7/dist-packages (from transformers) (4.8.2)\n",
            "Requirement already satisfied: packaging>=20.0 in /usr/local/lib/python3.7/dist-packages (from transformers) (21.3)\n",
            "Requirement already satisfied: requests in /usr/local/lib/python3.7/dist-packages (from transformers) (2.23.0)\n",
            "Requirement already satisfied: filelock in /usr/local/lib/python3.7/dist-packages (from transformers) (3.4.0)\n",
            "Requirement already satisfied: numpy>=1.17 in /usr/local/lib/python3.7/dist-packages (from transformers) (1.19.5)\n",
            "Requirement already satisfied: typing-extensions>=3.7.4.3 in /usr/local/lib/python3.7/dist-packages (from huggingface-hub<1.0,>=0.1.0->transformers) (3.10.0.2)\n",
            "Requirement already satisfied: pyparsing!=3.0.5,>=2.0.2 in /usr/local/lib/python3.7/dist-packages (from packaging>=20.0->transformers) (3.0.6)\n",
            "Requirement already satisfied: zipp>=0.5 in /usr/local/lib/python3.7/dist-packages (from importlib-metadata->transformers) (3.6.0)\n",
            "Requirement already satisfied: certifi>=2017.4.17 in /usr/local/lib/python3.7/dist-packages (from requests->transformers) (2021.10.8)\n",
            "Requirement already satisfied: urllib3!=1.25.0,!=1.25.1,<1.26,>=1.21.1 in /usr/local/lib/python3.7/dist-packages (from requests->transformers) (1.24.3)\n",
            "Requirement already satisfied: idna<3,>=2.5 in /usr/local/lib/python3.7/dist-packages (from requests->transformers) (2.10)\n",
            "Requirement already satisfied: chardet<4,>=3.0.2 in /usr/local/lib/python3.7/dist-packages (from requests->transformers) (3.0.4)\n",
            "Requirement already satisfied: six in /usr/local/lib/python3.7/dist-packages (from sacremoses->transformers) (1.15.0)\n",
            "Requirement already satisfied: joblib in /usr/local/lib/python3.7/dist-packages (from sacremoses->transformers) (1.1.0)\n",
            "Requirement already satisfied: click in /usr/local/lib/python3.7/dist-packages (from sacremoses->transformers) (7.1.2)\n"
          ]
        }
      ]
    },
    {
      "cell_type": "code",
      "metadata": {
        "id": "4FifbVTRj7-L"
      },
      "source": [
        "import os\n",
        "import re\n",
        "import math\n",
        "from tqdm import tqdm\n",
        "import numpy as np\n",
        "import pandas as pd\n",
        "import matplotlib.pyplot as plt\n",
        "import torch\n",
        "import torch.nn as nn\n",
        "import transformers\n",
        "from sklearn.model_selection import train_test_split\n",
        "from sklearn.metrics import classification_report\n",
        "from transformers import AutoModel, BertTokenizerFast\n",
        "\n",
        "import time\n",
        "from babel.dates import format_date, format_datetime, format_time\n",
        "\n",
        "%matplotlib inline\n",
        "device = torch.device(\"cuda\")\n"
      ],
      "execution_count": null,
      "outputs": []
    },
    {
      "cell_type": "markdown",
      "source": [
        "#3. Loading Dataset"
      ],
      "metadata": {
        "id": "LxUPyZto1gtx"
      }
    },
    {
      "cell_type": "code",
      "metadata": {
        "id": "dM7krZEeoiiy"
      },
      "source": [
        "#Function to determine overall sentiment based on existing labels\n",
        "def determineOverall(arr) -> int:\n",
        "  res = 0\n",
        "  positive = {5}\n",
        "  negative = {1, 3, 4, 6}\n",
        "  neutral = {0, 2, 7, 8}\n",
        "  for num in arr:\n",
        "    if num in positive:\n",
        "      res += 1\n",
        "    elif num in negative:\n",
        "      res -= 1\n",
        "    elif num in neutral:\n",
        "      res += 0\n",
        "  if res > 0:\n",
        "    return 2\n",
        "  elif res < 0:\n",
        "    return 1\n",
        "  elif res  == 0:\n",
        "    return 0  \n",
        "\n",
        "#converting the array of strings to ints\n",
        "def convArr(arr):\n",
        "  # print(arr)\n",
        "  stoi = lambda x: int(x)\n",
        "  for i in range(len(arr)):\n",
        "    arr[i] = stoi(arr[i])\n",
        "  "
      ],
      "execution_count": null,
      "outputs": []
    },
    {
      "cell_type": "code",
      "metadata": {
        "id": "4yC24BEXXoUO",
        "colab": {
          "base_uri": "https://localhost:8080/",
          "height": 206
        },
        "outputId": "3ff11954-5ff5-488b-cb88-5b3cf64e5b7a"
      },
      "source": [
        "#reading the dataset\n",
        "col_list = [\"Subtitle\", \"Labels\",\"Language\"]  #three columns seperating the dialouges, language and its emotions (emotions numbered from 1 to 8 according to  Plutchik emotions )\n",
        "df = pd.read_csv(\"/content/combined_tsv (1).tsv\",sep=\"\\t\", usecols=col_list)\n",
        "\n",
        "\n",
        "newLst = [] # build newLst with above function\n",
        "count = 0\n",
        "#print(df.tail())\n",
        "df = df.drop(index=164453)  #weird text causing convArr to fail\n",
        "for ind in df.index:\n",
        "  a = df[\"Labels\"][ind]\n",
        "  b = a.split(\", \")\n",
        "  convArr(b)\n",
        "  res = determineOverall(b)\n",
        "  newLst.append(res)\n",
        "  \n",
        "df[\"Overall\"] = newLst\n",
        "df = df.dropna()\n",
        "df.sample(5)"
      ],
      "execution_count": null,
      "outputs": [
        {
          "output_type": "execute_result",
          "data": {
            "text/html": [
              "<div>\n",
              "<style scoped>\n",
              "    .dataframe tbody tr th:only-of-type {\n",
              "        vertical-align: middle;\n",
              "    }\n",
              "\n",
              "    .dataframe tbody tr th {\n",
              "        vertical-align: top;\n",
              "    }\n",
              "\n",
              "    .dataframe thead th {\n",
              "        text-align: right;\n",
              "    }\n",
              "</style>\n",
              "<table border=\"1\" class=\"dataframe\">\n",
              "  <thead>\n",
              "    <tr style=\"text-align: right;\">\n",
              "      <th></th>\n",
              "      <th>Subtitle</th>\n",
              "      <th>Labels</th>\n",
              "      <th>Language</th>\n",
              "      <th>Overall</th>\n",
              "    </tr>\n",
              "  </thead>\n",
              "  <tbody>\n",
              "    <tr>\n",
              "      <th>21763</th>\n",
              "      <td>Olha, foi muito bom ver você de novo, ok? Eu só -</td>\n",
              "      <td>6</td>\n",
              "      <td>br</td>\n",
              "      <td>1</td>\n",
              "    </tr>\n",
              "    <tr>\n",
              "      <th>73570</th>\n",
              "      <td>Oletko ihminen?</td>\n",
              "      <td>2</td>\n",
              "      <td>fi</td>\n",
              "      <td>0</td>\n",
              "    </tr>\n",
              "    <tr>\n",
              "      <th>64551</th>\n",
              "      <td>En otras palabras, estos tipos tienen que abri...</td>\n",
              "      <td>1</td>\n",
              "      <td>es</td>\n",
              "      <td>1</td>\n",
              "    </tr>\n",
              "    <tr>\n",
              "      <th>57252</th>\n",
              "      <td>¡Bueno esta es la 31!</td>\n",
              "      <td>5</td>\n",
              "      <td>es</td>\n",
              "      <td>2</td>\n",
              "    </tr>\n",
              "    <tr>\n",
              "      <th>150229</th>\n",
              "      <td>Pažljivo gledaj.</td>\n",
              "      <td>5</td>\n",
              "      <td>sr</td>\n",
              "      <td>2</td>\n",
              "    </tr>\n",
              "  </tbody>\n",
              "</table>\n",
              "</div>"
            ],
            "text/plain": [
              "                                                 Subtitle  ... Overall\n",
              "21763   Olha, foi muito bom ver você de novo, ok? Eu só -  ...       1\n",
              "73570                                     Oletko ihminen?  ...       0\n",
              "64551   En otras palabras, estos tipos tienen que abri...  ...       1\n",
              "57252                               ¡Bueno esta es la 31!  ...       2\n",
              "150229                                   Pažljivo gledaj.  ...       2\n",
              "\n",
              "[5 rows x 4 columns]"
            ]
          },
          "metadata": {},
          "execution_count": 28
        }
      ]
    },
    {
      "cell_type": "markdown",
      "source": [
        "#4. Splitting Dataset for Training, Validation and Testing"
      ],
      "metadata": {
        "id": "Bc_R-_PY1wGX"
      }
    },
    {
      "cell_type": "code",
      "metadata": {
        "id": "PI3gewnO0MjH"
      },
      "source": [
        "#splitting into train, validation and test sets\n",
        "train_text, temp_text, train_labels, temp_labels = train_test_split(df[\"Subtitle\"], df[\"Overall\"], random_state=2018, test_size=0.2, stratify=df[\"Overall\"])\n",
        "# df.groupby(['year', 'month', 'class']).size()\n",
        "val_text, test_text, val_labels, test_labels = train_test_split(temp_text, temp_labels, random_state=2018, test_size=0.2, stratify=temp_labels)"
      ],
      "execution_count": null,
      "outputs": []
    },
    {
      "cell_type": "markdown",
      "source": [
        "#5. Importing BERT Model and BERT Tokenizer"
      ],
      "metadata": {
        "id": "UjLvOIBJ1_nF"
      }
    },
    {
      "cell_type": "code",
      "metadata": {
        "id": "o4in3hUx1hAk",
        "colab": {
          "base_uri": "https://localhost:8080/"
        },
        "outputId": "361a1c3a-e62f-4194-847e-20672c1d6d61"
      },
      "source": [
        "bert = AutoModel.from_pretrained('bert-base-multilingual-cased')\n",
        "\n",
        "tokenizer = BertTokenizerFast.from_pretrained('bert-base-multilingual-cased', do_lower_case=False)"
      ],
      "execution_count": null,
      "outputs": [
        {
          "output_type": "stream",
          "name": "stderr",
          "text": [
            "Some weights of the model checkpoint at bert-base-multilingual-cased were not used when initializing BertModel: ['cls.predictions.transform.dense.bias', 'cls.predictions.transform.dense.weight', 'cls.predictions.transform.LayerNorm.bias', 'cls.seq_relationship.weight', 'cls.seq_relationship.bias', 'cls.predictions.bias', 'cls.predictions.transform.LayerNorm.weight', 'cls.predictions.decoder.weight']\n",
            "- This IS expected if you are initializing BertModel from the checkpoint of a model trained on another task or with another architecture (e.g. initializing a BertForSequenceClassification model from a BertForPreTraining model).\n",
            "- This IS NOT expected if you are initializing BertModel from the checkpoint of a model that you expect to be exactly identical (initializing a BertForSequenceClassification model from a BertForSequenceClassification model).\n"
          ]
        }
      ]
    },
    {
      "cell_type": "markdown",
      "source": [
        "#6. Tokenization"
      ],
      "metadata": {
        "id": "IzlPFVLJ2R6w"
      }
    },
    {
      "cell_type": "code",
      "metadata": {
        "id": "pxkXzoDKdR2A",
        "colab": {
          "base_uri": "https://localhost:8080/"
        },
        "outputId": "65e665e4-4b93-44a6-be2e-4dc410beb9d3"
      },
      "source": [
        "seq_len = [len(i.split()) for i in train_text]\n",
        "actual_max_seq_len = int(max(seq_len))\n",
        "print(len(seq_len), actual_max_seq_len)\n",
        "max_seq_len = 64\n",
        "# pd.Series(seq_len).hist(bins='auto')\n"
      ],
      "execution_count": null,
      "outputs": [
        {
          "output_type": "stream",
          "name": "stdout",
          "text": [
            "140693 61\n"
          ]
        }
      ]
    },
    {
      "cell_type": "code",
      "metadata": {
        "id": "i-Xnyi94zXTA",
        "colab": {
          "base_uri": "https://localhost:8080/",
          "height": 265
        },
        "outputId": "243dbaf5-879f-4258-bc55-ddc6923968e0"
      },
      "source": [
        "# import matplotlib.pyplot as plt\n",
        "# plt.hist(tokens_train, bin = 'auto')\n",
        "# %matplotlib inline\n",
        "# plt.hist(seq_len, bins=np.arange(min(seq_len), max(seq_len) + binwidth, binwidth))\n",
        "# binwidth = \n",
        "# plt.hist(seq_len, bins=range(min(seq_len), max(seq_len) + binwidth, binwidth))\n",
        "# plt.hist(seq_len, bins = 'auto')\n",
        "plt.hist(seq_len, bins=range(0,40))\n",
        "# plt.hist(train_text)\n",
        "plt.show(); "
      ],
      "execution_count": null,
      "outputs": [
        {
          "output_type": "display_data",
          "data": {
            "image/png": "[encoded data removed]",
            "text/plain": [
              "<Figure size 432x288 with 1 Axes>"
            ]
          },
          "metadata": {
            "needs_background": "light"
          }
        }
      ]
    },
    {
      "cell_type": "code",
      "metadata": {
        "id": "gbiJemCGeFyB"
      },
      "source": [
        "#tokenizing and encoding sequences in training set\n",
        "tokens_train = tokenizer.batch_encode_plus(\n",
        "    train_text.tolist(),\n",
        "    max_length = max_seq_len,\n",
        "    padding = 'max_length',\n",
        "    truncation=True,\n",
        "    return_token_type_ids=False\n",
        ")\n",
        "\n",
        "#tokenizing and encoding sequences in validation set\n",
        "tokens_val = tokenizer.batch_encode_plus(\n",
        "    val_text.tolist(),\n",
        "    max_length = max_seq_len,\n",
        "    padding = 'max_length',\n",
        "    truncation=True,\n",
        "    return_token_type_ids=False\n",
        ")\n",
        "\n",
        "#tokenizing and encoding sequences in test set\n",
        "tokens_test = tokenizer.batch_encode_plus(\n",
        "    test_text.tolist(),\n",
        "    max_length = max_seq_len,\n",
        "    padding = 'max_length',\n",
        "    truncation=True,\n",
        "    return_token_type_ids=False\n",
        ")"
      ],
      "execution_count": null,
      "outputs": []
    },
    {
      "cell_type": "markdown",
      "source": [
        "#7. Converting Interger Sequences to Tensors"
      ],
      "metadata": {
        "id": "Ii8qUKwo2exr"
      }
    },
    {
      "cell_type": "code",
      "metadata": {
        "id": "D9FCiA-87clR"
      },
      "source": [
        "#converting integer sequences to tensors\n",
        "#for train set\n",
        "train_seq = torch.tensor(tokens_train['input_ids'])\n",
        "train_mask = torch.tensor(tokens_train['attention_mask'])\n",
        "train_y = torch.tensor(train_labels.to_list())\n",
        "\n",
        "# for validation set\n",
        "val_seq = torch.tensor(tokens_val['input_ids'])\n",
        "val_mask = torch.tensor(tokens_val['attention_mask'])\n",
        "val_y = torch.tensor(val_labels.tolist())\n",
        "\n",
        "# for test set\n",
        "test_seq = torch.tensor(tokens_test['input_ids'])\n",
        "test_mask = torch.tensor(tokens_test['attention_mask'])\n",
        "test_y = torch.tensor(test_labels.tolist())\n"
      ],
      "execution_count": null,
      "outputs": []
    },
    {
      "cell_type": "markdown",
      "source": [
        "\n",
        "#8. Creating Data Loaders"
      ],
      "metadata": {
        "id": "on4Xy2B22lx3"
      }
    },
    {
      "cell_type": "code",
      "metadata": {
        "id": "1zrIg_D1dfDu"
      },
      "source": [
        "#Creating Dataloaders\n",
        "from torch.utils.data import TensorDataset, DataLoader, RandomSampler, SequentialSampler\n",
        "\n",
        "batch_size = 8\n",
        "\n",
        "train_data = TensorDataset(train_seq, train_mask, train_y) #wrapping tensors\n",
        "\n",
        "train_sampler = RandomSampler(train_data) #sampler for sampling the data during training\n",
        "\n",
        "train_dataloader = DataLoader(train_data, sampler=train_sampler, batch_size=batch_size) #dataLoader for train set\n",
        "\n",
        "val_data = TensorDataset(val_seq, val_mask, val_y) #wrapping tensors\n",
        "\n",
        "val_sampler = SequentialSampler(val_data) #sampler for sampling the data during training\n",
        "\n",
        "val_dataloader = DataLoader(val_data, sampler = val_sampler, batch_size=batch_size) #dataLoader for validation set\n",
        "\n"
      ],
      "execution_count": null,
      "outputs": []
    },
    {
      "cell_type": "markdown",
      "source": [
        "#9. Freezing BERT Parameters"
      ],
      "metadata": {
        "id": "FN6rnHVs2yNi"
      }
    },
    {
      "cell_type": "code",
      "metadata": {
        "id": "A6w-zsuW4aPW"
      },
      "source": [
        "#Freezing bert parameters\n",
        "for param in bert.parameters():\n",
        "    param.requires_grad = False"
      ],
      "execution_count": null,
      "outputs": []
    },
    {
      "cell_type": "markdown",
      "source": [
        "#10. Defining Model Architecture"
      ],
      "metadata": {
        "id": "7eQeWwUC24hg"
      }
    },
    {
      "cell_type": "code",
      "metadata": {
        "id": "ql_2Xbcz5P6Z"
      },
      "source": [
        "#Defining model architecture\n",
        "class BERT_Arch(nn.Module):\n",
        "\n",
        "    def __init__(self, bert):\n",
        "      \n",
        "      super(BERT_Arch, self).__init__()\n",
        "\n",
        "      self.bert = bert \n",
        "      \n",
        "      # dropout layer\n",
        "      self.dropout = nn.Dropout(0.1)\n",
        "      \n",
        "      # relu activation function\n",
        "      self.relu =  nn.ReLU()\n",
        "\n",
        "      # dense layer 1\n",
        "      self.fc1 = nn.Linear(768,64)\n",
        "      \n",
        "      # dense layer 2 (Output layer)\n",
        "      self.fc2 = nn.Linear(64,3)\n",
        "\n",
        "      #softmax activation function\n",
        "      self.softmax = nn.LogSoftmax()\n",
        "\n",
        "    #define the forward pass\n",
        "    def forward(self, sent_id, mask):\n",
        "\n",
        "      #pass the inputs to the model  \n",
        "      _, cls_hs = self.bert(sent_id, attention_mask=mask, return_dict=False)\n",
        "      \n",
        "      x = self.fc1(cls_hs)\n",
        "\n",
        "      x = self.relu(x)\n",
        "\n",
        "      x = self.dropout(x)\n",
        "\n",
        "      # output layer\n",
        "      x = self.fc2(x)\n",
        "      \n",
        "      # apply softmax activation\n",
        "      x = self.softmax(x)\n",
        "\n",
        "      return x"
      ],
      "execution_count": null,
      "outputs": []
    },
    {
      "cell_type": "code",
      "metadata": {
        "id": "h1r5sXEJ5nuy"
      },
      "source": [
        "# passing the pre-trained BERT to our define architecture\n",
        "model = BERT_Arch(bert)\n",
        "\n",
        "# # pushing the model to GPU\n",
        "model = model.to(device)"
      ],
      "execution_count": null,
      "outputs": []
    },
    {
      "cell_type": "code",
      "metadata": {
        "id": "56vv5V1U5y82"
      },
      "source": [
        "# optimizer from hugging face transformers\n",
        "from transformers import AdamW\n",
        "\n",
        "# define the optimizer\n",
        "optimizer = AdamW(model.parameters(), lr = 1e-3)"
      ],
      "execution_count": null,
      "outputs": []
    },
    {
      "cell_type": "markdown",
      "source": [
        "#11. Finding Class Weights"
      ],
      "metadata": {
        "id": "c8KiS5r13CKQ"
      }
    },
    {
      "cell_type": "code",
      "metadata": {
        "id": "j-gwTJe751lp",
        "colab": {
          "base_uri": "https://localhost:8080/"
        },
        "outputId": "69294989-3a40-4408-b138-91235759c27f"
      },
      "source": [
        "#Finding class weights\n",
        "from sklearn.utils.class_weight import compute_class_weight\n",
        "\n",
        "#compute the class weights\n",
        "class_wts = compute_class_weight(\n",
        "    class_weight='balanced',\n",
        "    classes=np.unique(train_labels),\n",
        "    y=train_labels\n",
        "    )\n",
        "print(class_wts)"
      ],
      "execution_count": null,
      "outputs": [
        {
          "output_type": "stream",
          "name": "stdout",
          "text": [
            "[1.08418871 0.61801785 2.17592292]\n"
          ]
        }
      ]
    },
    {
      "cell_type": "code",
      "metadata": {
        "id": "MvoQRcS47Y3w"
      },
      "source": [
        "# convert class weights to tensor\n",
        "weights= torch.tensor(class_wts,dtype=torch.float)\n",
        "weights = weights.to(device)\n",
        "\n",
        "# loss function\n",
        "cross_entropy  = nn.NLLLoss() \n",
        "\n",
        "# number of training epochs\n",
        "epochs = 7"
      ],
      "execution_count": null,
      "outputs": []
    },
    {
      "cell_type": "markdown",
      "source": [
        "#12. Fine-Tuning BERT"
      ],
      "metadata": {
        "id": "mOWxbuzX3IPH"
      }
    },
    {
      "cell_type": "code",
      "metadata": {
        "id": "mWr5RTjV7dL9"
      },
      "source": [
        "# function to train the model\n",
        "def train():\n",
        "  \n",
        "  model.train()\n",
        "\n",
        "  total_loss, total_accuracy = 0, 0\n",
        "  \n",
        "  # empty list to save model predictions\n",
        "  total_preds=[]\n",
        "  \n",
        "  # iterate over batches\n",
        "  for step,batch in enumerate(train_dataloader):\n",
        "    \n",
        "    # progress update after every 50 batches.\n",
        "    if step % 50 == 0 and not step == 0:\n",
        "      print('  Batch {:>5,}  of  {:>5,}.'.format(step, len(train_dataloader)))\n",
        "\n",
        "    # push the batch to gpu\n",
        "    batch = [r.to(device) for r in batch]\n",
        "    \n",
        "    sent_id, mask, labels = batch\n",
        "\n",
        "    # clear previously calculated gradients \n",
        "    model.zero_grad()        \n",
        "\n",
        "    # get model predictions for the current batch\n",
        "    preds = model(sent_id, mask)\n",
        "\n",
        "    # compute the loss between actual and predicted values\n",
        "    loss = cross_entropy(preds, labels)\n",
        "\n",
        "    # add on to the total loss\n",
        "    total_loss = total_loss + loss.item()\n",
        "\n",
        "    # backward pass to calculate the gradients\n",
        "    loss.backward()\n",
        "\n",
        "    # clip the the gradients to 1.0. It helps in preventing the exploding gradient problem\n",
        "    torch.nn.utils.clip_grad_norm_(model.parameters(), 1.0)\n",
        "\n",
        "    # update parameters\n",
        "    optimizer.step()\n",
        "\n",
        "    # model predictions are stored on GPU. So, push it to CPU\n",
        "    preds=preds.detach().cpu().numpy()\n",
        "\n",
        "    # append the model predictions\n",
        "    total_preds.append(preds)\n",
        "\n",
        "  # compute the training loss of the epoch\n",
        "  avg_loss = total_loss / len(train_dataloader)\n",
        "  \n",
        "  # predictions are in the form of (no. of batches, size of batch, no. of classes).\n",
        "  # reshape the predictions in form of (number of samples, no. of classes)\n",
        "  total_preds  = np.concatenate(total_preds, axis=0)\n",
        "\n",
        "  #returns the loss and predictions\n",
        "  return avg_loss, total_preds"
      ],
      "execution_count": null,
      "outputs": []
    },
    {
      "cell_type": "code",
      "metadata": {
        "id": "YsUW4SaW74mT"
      },
      "source": [
        "# function for evaluating the model\n",
        "def evaluate():\n",
        "  \n",
        "  print(\"\\nEvaluating...\")\n",
        "  \n",
        "  # deactivate dropout layers\n",
        "  model.eval()\n",
        "\n",
        "  total_loss, total_accuracy = 0, 0\n",
        "  \n",
        "  # empty list to save the model predictions\n",
        "  total_preds = []\n",
        "\n",
        "  # iterate over batches\n",
        "  t0 = time.time()\n",
        "  for step,batch in enumerate(val_dataloader):\n",
        "    \n",
        "    # Progress update every 50 batches.\n",
        "    if step % 50 == 0 and not step == 0:\n",
        "      \n",
        "      # Calculate elapsed time in minutes.\n",
        "      elapsed = format_time(time.time() - t0)\n",
        "            \n",
        "      # Report progress.\n",
        "      print('  Batch {:>5,}  of  {:>5,}.'.format(step, len(val_dataloader)))\n",
        "\n",
        "    # push the batch to gpu\n",
        "    batch = [t.to(device) for t in batch]\n",
        "\n",
        "    sent_id, mask, labels = batch\n",
        "\n",
        "    # deactivate autograd\n",
        "    with torch.no_grad():\n",
        "      \n",
        "      # model predictions\n",
        "      preds = model(sent_id, mask)\n",
        "\n",
        "      # compute the validation loss between actual and predicted values\n",
        "      loss = cross_entropy(preds,labels)\n",
        "\n",
        "      total_loss = total_loss + loss.item()\n",
        "\n",
        "      preds = preds.detach().cpu().numpy()\n",
        "\n",
        "      total_preds.append(preds)\n",
        "\n",
        "  # compute the validation loss of the epoch\n",
        "  avg_loss = total_loss / len(val_dataloader) \n",
        "\n",
        "  # reshape the predictions in form of (number of samples, no. of classes)\n",
        "  total_preds  = np.concatenate(total_preds, axis=0)\n",
        "\n",
        "  return avg_loss, total_preds"
      ],
      "execution_count": null,
      "outputs": []
    },
    {
      "cell_type": "markdown",
      "source": [
        "#13. Starting Training"
      ],
      "metadata": {
        "id": "6qyJaKMl3QIL"
      }
    },
    {
      "cell_type": "code",
      "metadata": {
        "id": "HiuJ7BBm8AG3"
      },
      "source": [
        "# set initial loss to infinite\n",
        "best_valid_loss = float('inf')\n",
        "\n",
        "# empty lists to store training and validation loss of each epoch\n",
        "train_losses=[]\n",
        "valid_losses=[]\n",
        "\n",
        "#for each epoch\n",
        "for epoch in range(epochs):\n",
        "     \n",
        "    print('\\n Epoch {:} / {:}'.format(epoch + 1, epochs))\n",
        "    \n",
        "    #train model\n",
        "    train_loss, _ = train()\n",
        "    \n",
        "    #evaluate model\n",
        "    valid_loss, _ = evaluate()\n",
        "    \n",
        "    #save the best model\n",
        "    if valid_loss < best_valid_loss:\n",
        "        best_valid_loss = valid_loss\n",
        "        torch.save(model.state_dict(), 'saved_weights.pt')\n",
        "    \n",
        "    # append training and validation loss\n",
        "    train_losses.append(train_loss)\n",
        "    valid_losses.append(valid_loss)\n",
        "    \n",
        "    print(f'\\nTraining Loss: {train_loss:.3f}')\n",
        "    print(f'Validation Loss: {valid_loss:.3f}')"
      ],
      "execution_count": null,
      "outputs": []
    },
    {
      "cell_type": "markdown",
      "source": [
        "#14. Loading Saved Model"
      ],
      "metadata": {
        "id": "8ZNEdiVK3ZMi"
      }
    },
    {
      "cell_type": "code",
      "metadata": {
        "id": "J0xazimVwr2Q"
      },
      "source": [
        "#load weights of best model\n",
        "path = './saved_weights.pt'\n",
        "model.load_state_dict(torch.load(path))"
      ],
      "execution_count": null,
      "outputs": []
    },
    {
      "cell_type": "markdown",
      "source": [
        "#15. Getting Predictions for Test Data"
      ],
      "metadata": {
        "id": "Csp46qc13hF8"
      }
    },
    {
      "cell_type": "code",
      "metadata": {
        "id": "UuFBp57SX3Ez"
      },
      "source": [
        "# get predictions for test data\n",
        "with torch.no_grad():\n",
        "  preds = model(test_seq.to(device), test_mask.to(device))\n",
        "  preds = preds.detach().cpu().numpy()"
      ],
      "execution_count": null,
      "outputs": []
    },
    {
      "cell_type": "code",
      "source": [
        "# model's performance\n",
        "preds = np.argmax(preds, axis = 1)\n",
        "print(classification_report(test_y, preds))"
      ],
      "metadata": {
        "id": "72I2u2X96u6l"
      },
      "execution_count": null,
      "outputs": []
    },
    {
      "cell_type": "code",
      "source": [
        "# confusion matrix\n",
        "pd.crosstab(test_y, preds)"
      ],
      "metadata": {
        "id": "xOUXB5L96zYX"
      },
      "execution_count": null,
      "outputs": []
    }
  ]
}